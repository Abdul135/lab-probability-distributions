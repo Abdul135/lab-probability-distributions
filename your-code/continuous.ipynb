{
 "cells": [
  {
   "cell_type": "markdown",
   "metadata": {},
   "source": [
    "# Before your start:\n",
    "\n",
    "    Read the README.md file\n",
    "    Comment as much as you can and use the resources (README.md file)\n",
    "    Happy learning!"
   ]
  },
  {
   "cell_type": "markdown",
   "metadata": {},
   "source": [
    "In this exercise, we  will generate random numbers from the continuous disributions we learned in the lesson. There are two ways to generate random numbers:\n",
    "\n",
    "1. Using the numpy library \n",
    "1. using the Scipy library \n",
    "\n",
    "Use either or both of the lbraries in this exercise."
   ]
  },
  {
   "cell_type": "code",
   "execution_count": 53,
   "metadata": {},
   "outputs": [],
   "source": [
    "from scipy import stats\n",
    "from scipy.stats import expon\n",
    "import numpy as np\n",
    "from numpy import random\n",
    "import matplotlib.pyplot as plt\n",
    "import pandas as pd\n",
    "import math"
   ]
  },
  {
   "cell_type": "markdown",
   "metadata": {},
   "source": [
    "## Uniform Distribution\n",
    "\n",
    "To generate uniform random numbers between any two given values using scipy, we can either use the following code or the code that we have\n",
    "discussed in class:"
   ]
  },
  {
   "cell_type": "code",
   "execution_count": 54,
   "metadata": {},
   "outputs": [
    {
     "name": "stdout",
     "output_type": "stream",
     "text": [
      "[2.05850799 2.42332427 2.20864182 2.99028686 2.09592143 2.07490311\n",
      " 2.20956965 2.09113399 2.62146463 2.60759572]\n"
     ]
    }
   ],
   "source": [
    "from scipy.stats import uniform\n",
    "x = uniform.rvs(size=10)\n",
    "a = 2\n",
    "b = 3\n",
    "randoms  = a + (b-a)*x\n",
    "print(randoms)"
   ]
  },
  {
   "cell_type": "markdown",
   "metadata": {},
   "source": [
    "**Your task:**\n",
    "\n",
    "1. Based on the code above, write a function that generates uniformly distributed random numbers. There are several requirements for your function:\n",
    "    * It should accept 3 parameters: \n",
    "        * `bottom` - the lower boundary of the generated numbers\n",
    "        * `ceiling` - the upper boundary of the generated numbers\n",
    "        * `count` - how many numbers to generate\n",
    "    * It should return an array of uniformly distributed random numbers\n",
    "\n",
    "1. Call your function with 2 sets of params below:\n",
    "    * bottom=10, ceiling=15, count=100\n",
    "    * bottom=10, ceiling=60, count=1,000\n",
    "\n",
    "1. Plot the uniform distributions generated above using histograms, where x axis is the value and y axis is the count. Let the histogram's number of bins be 10.\n",
    "\n",
    "Your output should look like below:\n",
    "\n",
    "![uniform distribution](ud.png)"
   ]
  },
  {
   "cell_type": "code",
   "execution_count": 55,
   "metadata": {},
   "outputs": [
    {
     "data": {
      "text/plain": [
       "(array([ 93., 105.,  94.,  97., 106.,  94., 102.,  98., 108., 103.]),\n",
       " array([10.0573851 , 15.04360234, 20.02981957, 25.01603681, 30.00225405,\n",
       "        34.98847129, 39.97468852, 44.96090576, 49.947123  , 54.93334023,\n",
       "        59.91955747]),\n",
       " <a list of 10 Patch objects>)"
      ]
     },
     "execution_count": 55,
     "metadata": {},
     "output_type": "execute_result"
    },
    {
     "data": {
      "image/png": "[encoded data removed]",
      "text/plain": [
       "<Figure size 432x288 with 2 Axes>"
      ]
     },
     "metadata": {
      "needs_background": "light"
     },
     "output_type": "display_data"
    }
   ],
   "source": [
    "# your code here\n",
    "set1 = np.random.uniform(low = 10, high = 15, size = 100)\n",
    "set2 = np.random.uniform(low = 10, high = 60, size = 1000)\n",
    "\n",
    "fig, (ax1, ax2) = plt.subplots(1, 2, sharey=True)\n",
    "ax1.hist(set1)\n",
    "ax2.hist(set2)"
   ]
  },
  {
   "cell_type": "markdown",
   "metadata": {},
   "source": [
    "How are the two distributions different?"
   ]
  },
  {
   "cell_type": "code",
   "execution_count": 56,
   "metadata": {},
   "outputs": [],
   "source": [
    "# your answer here:\n",
    "#they differ in their value range"
   ]
  },
  {
   "cell_type": "markdown",
   "metadata": {},
   "source": [
    "## Normal Distribution\n",
    "\n",
    "1. In the same way in the Uniform Distribution challenge, write a function that generates normally distributed random numbers.\n",
    "1. Generate 1,000 normally distributed numbers with the average of 10 and standard deviation of 1\n",
    "1. Generate 1,000 normally distributed numbers with the average of 10 and standard deviation of 50\n",
    "2. Plot the distributions of the data generated.\n",
    "\n",
    "Expected output:\n",
    "\n",
    "![normal distribution](nd.png)"
   ]
  },
  {
   "cell_type": "code",
   "execution_count": 57,
   "metadata": {},
   "outputs": [
    {
     "data": {
      "text/plain": [
       "(array([ 1.,  0.,  0.,  1.,  1.,  0.,  1.,  3.,  3.,  3.,  1., 11., 11.,\n",
       "         7., 13., 15., 26., 30., 35., 39., 44., 39., 57., 49., 49., 66.,\n",
       "        52., 54., 50., 54., 50., 32., 34., 34., 24., 22., 18., 10., 11.,\n",
       "        17., 12.,  6.,  3.,  6.,  3.,  2.,  0.,  0.,  0.,  1.]),\n",
       " array([-180.80413915, -173.61895584, -166.43377254, -159.24858923,\n",
       "        -152.06340593, -144.87822262, -137.69303932, -130.50785601,\n",
       "        -123.32267271, -116.1374894 , -108.9523061 , -101.7671228 ,\n",
       "         -94.58193949,  -87.39675619,  -80.21157288,  -73.02638958,\n",
       "         -65.84120627,  -58.65602297,  -51.47083966,  -44.28565636,\n",
       "         -37.10047305,  -29.91528975,  -22.73010644,  -15.54492314,\n",
       "          -8.35973983,   -1.17455653,    6.01062678,   13.19581008,\n",
       "          20.38099339,   27.56617669,   34.75136   ,   41.9365433 ,\n",
       "          49.12172661,   56.30690991,   63.49209322,   70.67727652,\n",
       "          77.86245983,   85.04764313,   92.23282644,   99.41800974,\n",
       "         106.60319305,  113.78837635,  120.97355966,  128.15874296,\n",
       "         135.34392627,  142.52910957,  149.71429288,  156.89947618,\n",
       "         164.08465948,  171.26984279,  178.45502609]),\n",
       " <a list of 50 Patch objects>)"
      ]
     },
     "execution_count": 57,
     "metadata": {},
     "output_type": "execute_result"
    },
    {
     "data": {
      "image/png": "[encoded data removed]",
      "text/plain": [
       "<Figure size 432x288 with 2 Axes>"
      ]
     },
     "metadata": {
      "needs_background": "light"
     },
     "output_type": "display_data"
    }
   ],
   "source": [
    "# your code here\n",
    "g1 = np.random.normal(loc=10, scale=1, size=1000)\n",
    "g2 = np.random.normal(loc=10, scale=50, size=1000)\n",
    "\n",
    "fig, (ax1, ax2) = plt.subplots(1, 2, sharey = True)\n",
    "ax1.hist(g1, bins=50)\n",
    "ax2.hist(g2, bins=50)"
   ]
  },
  {
   "cell_type": "markdown",
   "metadata": {},
   "source": [
    "How are the two distributions different?"
   ]
  },
  {
   "cell_type": "code",
   "execution_count": 58,
   "metadata": {},
   "outputs": [],
   "source": [
    "# your answer here:\n",
    "# the difference between them is that the second has a wider range of values than the first one "
   ]
  },
  {
   "cell_type": "markdown",
   "metadata": {},
   "source": [
    "## Normal Distribution of Real Data\n",
    "\n",
    "In this challenge we are going to take a look the real data. We will use vehicles.csv file for this exercise"
   ]
  },
  {
   "cell_type": "markdown",
   "metadata": {},
   "source": [
    "First import vehicles.csv.\n",
    "Then plot the histograms for the following variables:\n",
    "\n",
    "1. Fuel Barrels/Year"
   ]
  },
  {
   "cell_type": "code",
   "execution_count": 59,
   "metadata": {},
   "outputs": [
    {
     "data": {
      "text/plain": [
       "(array([6.300e+01, 1.000e+01, 1.800e+01, 6.700e+01, 2.970e+02, 1.126e+03,\n",
       "        4.059e+03, 5.600e+03, 6.259e+03, 6.760e+03, 4.613e+03, 2.413e+03,\n",
       "        2.026e+03, 1.275e+03, 7.350e+02, 4.390e+02, 0.000e+00, 1.300e+02,\n",
       "        0.000e+00, 3.600e+01, 0.000e+00, 2.100e+01, 0.000e+00, 0.000e+00,\n",
       "        5.000e+00]),\n",
       " array([ 0.06      ,  1.94108571,  3.82217143,  5.70325714,  7.58434286,\n",
       "         9.46542857, 11.34651429, 13.2276    , 15.10868571, 16.98977143,\n",
       "        18.87085714, 20.75194286, 22.63302857, 24.51411429, 26.3952    ,\n",
       "        28.27628571, 30.15737143, 32.03845714, 33.91954286, 35.80062857,\n",
       "        37.68171429, 39.5628    , 41.44388571, 43.32497143, 45.20605714,\n",
       "        47.08714286]),\n",
       " <a list of 25 Patch objects>)"
      ]
     },
     "execution_count": 59,
     "metadata": {},
     "output_type": "execute_result"
    },
    {
     "data": {
      "image/png": "[encoded data removed]",
      "text/plain": [
       "<Figure size 432x288 with 1 Axes>"
      ]
     },
     "metadata": {
      "needs_background": "light"
     },
     "output_type": "display_data"
    }
   ],
   "source": [
    "# your code here\n",
    "vehicles = pd.read_csv('vehicles.csv')\n",
    "plt.hist(vehicles['Fuel Barrels/Year'], bins= 25)\n",
    "\n"
   ]
  },
  {
   "cell_type": "markdown",
   "metadata": {},
   "source": [
    "2. CO2 Emission Grams/Mile "
   ]
  },
  {
   "cell_type": "code",
   "execution_count": 60,
   "metadata": {},
   "outputs": [
    {
     "data": {
      "text/plain": [
       "(array([9.000e+00, 2.100e+01, 2.800e+01, 2.130e+02, 5.950e+02, 2.410e+03,\n",
       "        4.016e+03, 7.043e+03, 6.377e+03, 5.770e+03, 2.459e+03, 2.422e+03,\n",
       "        1.980e+03, 1.262e+03, 7.120e+02, 4.430e+02, 3.000e+00, 1.270e+02,\n",
       "        0.000e+00, 3.600e+01, 0.000e+00, 2.100e+01, 0.000e+00, 0.000e+00,\n",
       "        5.000e+00]),\n",
       " array([  37.        ,   86.30285714,  135.60571429,  184.90857143,\n",
       "         234.21142857,  283.51428571,  332.81714286,  382.12      ,\n",
       "         431.42285714,  480.72571429,  530.02857143,  579.33142857,\n",
       "         628.63428571,  677.93714286,  727.24      ,  776.54285714,\n",
       "         825.84571429,  875.14857143,  924.45142857,  973.75428571,\n",
       "        1023.05714286, 1072.36      , 1121.66285714, 1170.96571429,\n",
       "        1220.26857143, 1269.57142857]),\n",
       " <a list of 25 Patch objects>)"
      ]
     },
     "execution_count": 60,
     "metadata": {},
     "output_type": "execute_result"
    },
    {
     "data": {
      "image/png": "[encoded data removed]",
      "text/plain": [
       "<Figure size 432x288 with 1 Axes>"
      ]
     },
     "metadata": {
      "needs_background": "light"
     },
     "output_type": "display_data"
    }
   ],
   "source": [
    "# your code here\n",
    "plt.hist(vehicles['CO2 Emission Grams/Mile'], bins= 25)\n"
   ]
  },
  {
   "cell_type": "markdown",
   "metadata": {},
   "source": [
    "3. Combined MPG"
   ]
  },
  {
   "cell_type": "code",
   "execution_count": 61,
   "metadata": {},
   "outputs": [
    {
     "data": {
      "text/plain": [
       "(array([2.600e+01, 1.710e+02, 1.182e+03, 3.202e+03, 4.556e+03, 5.979e+03,\n",
       "        6.375e+03, 5.405e+03, 3.340e+03, 2.345e+03, 1.331e+03, 8.240e+02,\n",
       "        4.300e+02, 3.380e+02, 1.290e+02, 8.400e+01, 8.800e+01, 7.500e+01,\n",
       "        1.200e+01, 1.600e+01, 1.800e+01, 1.500e+01, 5.000e+00, 4.000e+00,\n",
       "        2.000e+00]),\n",
       " array([ 7.  ,  8.96, 10.92, 12.88, 14.84, 16.8 , 18.76, 20.72, 22.68,\n",
       "        24.64, 26.6 , 28.56, 30.52, 32.48, 34.44, 36.4 , 38.36, 40.32,\n",
       "        42.28, 44.24, 46.2 , 48.16, 50.12, 52.08, 54.04, 56.  ]),\n",
       " <a list of 25 Patch objects>)"
      ]
     },
     "execution_count": 61,
     "metadata": {},
     "output_type": "execute_result"
    },
    {
     "data": {
      "image/png": "[encoded data removed]",
      "text/plain": [
       "<Figure size 432x288 with 1 Axes>"
      ]
     },
     "metadata": {
      "needs_background": "light"
     },
     "output_type": "display_data"
    }
   ],
   "source": [
    "# your code here\n",
    "plt.hist(vehicles['Combined MPG'], bins= 25)\n"
   ]
  },
  {
   "cell_type": "markdown",
   "metadata": {},
   "source": [
    "Which one(s) of the variables are nearly normally distributed? How do you know?"
   ]
  },
  {
   "cell_type": "code",
   "execution_count": 62,
   "metadata": {},
   "outputs": [
    {
     "data": {
      "text/plain": [
       "NormaltestResult(statistic=6994.459897617527, pvalue=0.0)"
      ]
     },
     "execution_count": 62,
     "metadata": {},
     "output_type": "execute_result"
    }
   ],
   "source": [
    "# you answer here:\n",
    "stats.normaltest(vehicles['Fuel Barrels/Year'])\n",
    "stats.normaltest(vehicles['CO2 Emission Grams/Mile'])\n",
    "stats.normaltest(vehicles['Combined MPG'])\n",
    "\n",
    "# all the 3 variables have a Normal Test Result of 0. \n",
    "#Based on that, none of the variables are normally disctributed "
   ]
  },
  {
   "cell_type": "markdown",
   "metadata": {},
   "source": [
    "## Exponential Distribution"
   ]
  },
  {
   "cell_type": "markdown",
   "metadata": {},
   "source": [
    "1. Using `numpy.random.exponential`, create a function that returns a list of numbers exponentially distributed with the mean of 10. \n",
    "\n",
    "1. Use the function to generate two number sequences with a mean of 1 and 100 and a size of 1000.\n",
    "\n",
    "1. Plot the distributions as histograms with the number of bins as 100.\n",
    "\n",
    "Your output should look like below:\n",
    "\n",
    "![exponential distribution](ed.png)"
   ]
  },
  {
   "cell_type": "code",
   "execution_count": 63,
   "metadata": {},
   "outputs": [
    {
     "data": {
      "text/plain": [
       "(array([62., 66., 55., 57., 50., 38., 45., 39., 31., 30., 31., 35., 34.,\n",
       "        32., 16., 20., 17., 23., 19., 14., 11., 16., 16., 10.,  7., 16.,\n",
       "        15., 13., 11., 10.,  7., 10.,  7.,  7.,  8.,  3.,  5.,  5.,  9.,\n",
       "         8.,  3.,  2.,  9.,  7.,  2.,  7.,  3.,  2.,  4.,  5.,  5.,  1.,\n",
       "         5.,  2.,  3.,  1.,  4.,  1.,  0.,  1.,  3.,  2.,  2.,  1.,  3.,\n",
       "         2.,  0.,  0.,  2.,  0.,  0.,  1.,  0.,  0.,  1.,  0.,  1.,  0.,\n",
       "         1.,  2.,  0.,  0.,  0.,  0.,  0.,  0.,  0.,  0.,  0.,  0.,  0.,\n",
       "         0.,  0.,  2.,  0.,  1.,  0.,  0.,  0.,  1.]),\n",
       " array([6.16212894e-02, 5.98743799e+00, 1.19132547e+01, 1.78390714e+01,\n",
       "        2.37648881e+01, 2.96907048e+01, 3.56165215e+01, 4.15423382e+01,\n",
       "        4.74681549e+01, 5.33939716e+01, 5.93197883e+01, 6.52456050e+01,\n",
       "        7.11714217e+01, 7.70972384e+01, 8.30230551e+01, 8.89488718e+01,\n",
       "        9.48746885e+01, 1.00800505e+02, 1.06726322e+02, 1.12652139e+02,\n",
       "        1.18577955e+02, 1.24503772e+02, 1.30429589e+02, 1.36355405e+02,\n",
       "        1.42281222e+02, 1.48207039e+02, 1.54132855e+02, 1.60058672e+02,\n",
       "        1.65984489e+02, 1.71910306e+02, 1.77836122e+02, 1.83761939e+02,\n",
       "        1.89687756e+02, 1.95613572e+02, 2.01539389e+02, 2.07465206e+02,\n",
       "        2.13391022e+02, 2.19316839e+02, 2.25242656e+02, 2.31168473e+02,\n",
       "        2.37094289e+02, 2.43020106e+02, 2.48945923e+02, 2.54871739e+02,\n",
       "        2.60797556e+02, 2.66723373e+02, 2.72649189e+02, 2.78575006e+02,\n",
       "        2.84500823e+02, 2.90426640e+02, 2.96352456e+02, 3.02278273e+02,\n",
       "        3.08204090e+02, 3.14129906e+02, 3.20055723e+02, 3.25981540e+02,\n",
       "        3.31907356e+02, 3.37833173e+02, 3.43758990e+02, 3.49684806e+02,\n",
       "        3.55610623e+02, 3.61536440e+02, 3.67462257e+02, 3.73388073e+02,\n",
       "        3.79313890e+02, 3.85239707e+02, 3.91165523e+02, 3.97091340e+02,\n",
       "        4.03017157e+02, 4.08942973e+02, 4.14868790e+02, 4.20794607e+02,\n",
       "        4.26720424e+02, 4.32646240e+02, 4.38572057e+02, 4.44497874e+02,\n",
       "        4.50423690e+02, 4.56349507e+02, 4.62275324e+02, 4.68201140e+02,\n",
       "        4.74126957e+02, 4.80052774e+02, 4.85978591e+02, 4.91904407e+02,\n",
       "        4.97830224e+02, 5.03756041e+02, 5.09681857e+02, 5.15607674e+02,\n",
       "        5.21533491e+02, 5.27459307e+02, 5.33385124e+02, 5.39310941e+02,\n",
       "        5.45236758e+02, 5.51162574e+02, 5.57088391e+02, 5.63014208e+02,\n",
       "        5.68940024e+02, 5.74865841e+02, 5.80791658e+02, 5.86717474e+02,\n",
       "        5.92643291e+02]),\n",
       " <a list of 100 Patch objects>)"
      ]
     },
     "execution_count": 63,
     "metadata": {},
     "output_type": "execute_result"
    },
    {
     "data": {
      "image/png": "[encoded data removed]",
      "text/plain": [
       "<Figure size 432x288 with 2 Axes>"
      ]
     },
     "metadata": {
      "needs_background": "light"
     },
     "output_type": "display_data"
    }
   ],
   "source": [
    "# your code here\n",
    "n1 = np.random.exponential(1, 1000) \n",
    "n2 = np.random.exponential(100, 1000) \n",
    "\n",
    "fig, (ax1, ax2) = plt.subplots(1, 2, sharey = True)\n",
    "ax1.hist(n1, bins=100)\n",
    "ax2.hist(n2, bins=100)"
   ]
  },
  {
   "cell_type": "markdown",
   "metadata": {},
   "source": [
    "How are the two distributions different?"
   ]
  },
  {
   "cell_type": "code",
   "execution_count": 64,
   "metadata": {},
   "outputs": [],
   "source": [
    "# your answer here:\n"
   ]
  },
  {
   "cell_type": "markdown",
   "metadata": {},
   "source": [
    "## Exponential Distribution of Real Data\n",
    "\n",
    "Suppose that the amount of time one spends in a bank is exponentially distributed with mean as 10 minutes (i.e. λ = 1/10). What is the probability that a customer will spend less than fifteen minutes in the bank? \n",
    "\n",
    "Write a code in python to solve this problem"
   ]
  },
  {
   "cell_type": "code",
   "execution_count": 67,
   "metadata": {},
   "outputs": [
    {
     "data": {
      "text/plain": [
       "0.7768698398515702"
      ]
     },
     "execution_count": 67,
     "metadata": {},
     "output_type": "execute_result"
    }
   ],
   "source": [
    "# your answer here\n",
    "# Hint: This is same as saying P(x<15)\n",
    "\n",
    "expon.cdf(15,scale = 10)"
   ]
  },
  {
   "cell_type": "markdown",
   "metadata": {},
   "source": [
    "What is the probability that the customer will spend more than 15 minutes"
   ]
  },
  {
   "cell_type": "code",
   "execution_count": 68,
   "metadata": {},
   "outputs": [
    {
     "data": {
      "text/plain": [
       "0.2231301601484298"
      ]
     },
     "execution_count": 68,
     "metadata": {},
     "output_type": "execute_result"
    }
   ],
   "source": [
    "# your answer here\n",
    "1 - expon.cdf(15,scale = 10)\n"
   ]
  },
  {
   "cell_type": "code",
   "execution_count": null,
   "metadata": {},
   "outputs": [],
   "source": []
  }
 ],
 "metadata": {
  "kernelspec": {
   "display_name": "Python 3",
   "language": "python",
   "name": "python3"
  },
  "language_info": {
   "codemirror_mode": {
    "name": "ipython",
    "version": 3
   },
   "file_extension": ".py",
   "mimetype": "text/x-python",
   "name": "python",
   "nbconvert_exporter": "python",
   "pygments_lexer": "ipython3",
   "version": "3.8.3"
  }
 },
 "nbformat": 4,
 "nbformat_minor": 2
}
